{
 "cells": [
  {
   "attachments": {},
   "cell_type": "markdown",
   "metadata": {},
   "source": [
    "### Using Random Forest to perform Machine Learning\n",
    "---"
   ]
  },
  {
   "cell_type": "code",
   "execution_count": 19,
   "metadata": {},
   "outputs": [],
   "source": [
    "# importing libraries\n",
    "import pandas as pd\n",
    "from sklearn.ensemble import RandomForestRegressor\n",
    "from sklearn.model_selection import train_test_split\n",
    "import matplotlib.pyplot as plt\n",
    "\n"
   ]
  },
  {
   "cell_type": "code",
   "execution_count": 29,
   "metadata": {},
   "outputs": [
    {
     "name": "stdout",
     "output_type": "stream",
     "text": [
      "<class 'pandas.core.frame.DataFrame'>\n",
      "RangeIndex: 469281 entries, 0 to 469280\n",
      "Data columns (total 16 columns):\n",
      " #   Column            Non-Null Count   Dtype  \n",
      "---  ------            --------------   -----  \n",
      " 0   popularity        469281 non-null  int64  \n",
      " 1   duration_ms       469281 non-null  int64  \n",
      " 2   explicit          469281 non-null  int64  \n",
      " 3   danceability      469281 non-null  float64\n",
      " 4   energy            469281 non-null  float64\n",
      " 5   key               469281 non-null  int64  \n",
      " 6   loudness          469281 non-null  float64\n",
      " 7   mode              469281 non-null  int64  \n",
      " 8   speechiness       469281 non-null  float64\n",
      " 9   acousticness      469281 non-null  float64\n",
      " 10  instrumentalness  469281 non-null  float64\n",
      " 11  liveness          469281 non-null  float64\n",
      " 12  valence           469281 non-null  float64\n",
      " 13  tempo             469281 non-null  float64\n",
      " 14  time_signature    469281 non-null  int64  \n",
      " 15  num_artists       469281 non-null  int64  \n",
      "dtypes: float64(9), int64(7)\n",
      "memory usage: 57.3 MB\n"
     ]
    }
   ],
   "source": [
    "# Load the dataset into a pandas dataframe\n",
    "cleanedMusicData = pd.read_csv('../Data/tracks_cleaned.csv')\n",
    "cleanedMusicData.drop('release_date',axis=1,inplace=True)\n",
    "cleanedMusicData.info()"
   ]
  },
  {
   "attachments": {},
   "cell_type": "markdown",
   "metadata": {},
   "source": [
    "---\n",
    "Our objective is to figure out whether a song is popular or not rather than assigning it a value of popularity. Hence, we would bin the values of popularity"
   ]
  },
  {
   "cell_type": "code",
   "execution_count": 30,
   "metadata": {},
   "outputs": [
    {
     "data": {
      "text/plain": [
       "0         (-0.098, 19.6]\n",
       "1         (-0.098, 19.6]\n",
       "2         (-0.098, 19.6]\n",
       "3         (-0.098, 19.6]\n",
       "4         (-0.098, 19.6]\n",
       "               ...      \n",
       "469276      (78.4, 98.0]\n",
       "469277      (78.4, 98.0]\n",
       "469278      (78.4, 98.0]\n",
       "469279      (78.4, 98.0]\n",
       "469280      (78.4, 98.0]\n",
       "Name: popularity, Length: 469281, dtype: category\n",
       "Categories (5, interval[float64, right]): [(-0.098, 19.6] < (19.6, 39.2] < (39.2, 58.8] < (58.8, 78.4] < (78.4, 98.0]]"
      ]
     },
     "execution_count": 30,
     "metadata": {},
     "output_type": "execute_result"
    }
   ],
   "source": [
    "# binning\n",
    "pd.cut(cleanedMusicData['popularity'],bins=5)"
   ]
  },
  {
   "cell_type": "code",
   "execution_count": null,
   "metadata": {},
   "outputs": [],
   "source": [
    "# Import RandomForestClassifier model from Scikit-Learn\n",
    "from sklearn.ensemble import RandomForestClassifier\n",
    "\n",
    "# Create the Random Forest object\n",
    "rforest = RandomForestClassifier(n_estimators = 100,  # n_estimators denote number of trees\n",
    "                                 max_depth = 4)       # set the maximum depth of each tree\n",
    "\n",
    "# Fit Random Forest on Train Data\n",
    "rforest.fit(X_train, y_train.Rating.ravel())"
   ]
  }
 ],
 "metadata": {
  "kernelspec": {
   "display_name": "Python 3",
   "language": "python",
   "name": "python3"
  },
  "language_info": {
   "codemirror_mode": {
    "name": "ipython",
    "version": 3
   },
   "file_extension": ".py",
   "mimetype": "text/x-python",
   "name": "python",
   "nbconvert_exporter": "python",
   "pygments_lexer": "ipython3",
   "version": "3.11.2"
  }
 },
 "nbformat": 4,
 "nbformat_minor": 2
}
