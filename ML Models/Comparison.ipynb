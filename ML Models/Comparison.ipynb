{
 "cells": [
  {
   "attachments": {},
   "cell_type": "markdown",
   "metadata": {},
   "source": [
    "## Comparison of Models\n",
    "--- \n",
    "In this section, we will be comparing and analysing the performance of the 3 ML models we have utilized."
   ]
  },
  {
   "cell_type": "code",
   "execution_count": 3,
   "metadata": {},
   "outputs": [],
   "source": [
    "# importing libraries\n",
    "import pandas as pd\n",
    "from sklearn.ensemble import RandomForestRegressor\n",
    "from sklearn.model_selection import train_test_split\n",
    "import matplotlib.pyplot as plt\n",
    "import seaborn as sb\n",
    "import numpy as np"
   ]
  },
  {
   "cell_type": "code",
   "execution_count": 2,
   "metadata": {},
   "outputs": [],
   "source": [
    "import pickle\n",
    "\n",
    "# Load the saved model from file\n",
    "with open('rforest_model.pkl', 'rb') as file:\n",
    "    rforest = pickle.load(file)\n",
    "\n",
    "import pickle\n",
    "\n",
    "# load the saved model\n",
    "with open('linear_regression_model.pkl', 'rb') as file:\n",
    "    model_regression = pickle.load(file)\n",
    "\n",
    "# Load the saved model from file\n",
    "with open('decision_tree_model.pkl', 'rb') as file:\n",
    "    model_decision_tree = pickle.load(file)"
   ]
  },
  {
   "cell_type": "code",
   "execution_count": 5,
   "metadata": {},
   "outputs": [
    {
     "name": "stdout",
     "output_type": "stream",
     "text": [
      "<class 'pandas.core.frame.DataFrame'>\n",
      "RangeIndex: 469281 entries, 0 to 469280\n",
      "Data columns (total 18 columns):\n",
      " #   Column            Non-Null Count   Dtype  \n",
      "---  ------            --------------   -----  \n",
      " 0   popularity        469281 non-null  int64  \n",
      " 1   duration_ms       469281 non-null  int64  \n",
      " 2   explicit          469281 non-null  int64  \n",
      " 3   release_date      469281 non-null  object \n",
      " 4   danceability      469281 non-null  float64\n",
      " 5   energy            469281 non-null  float64\n",
      " 6   key               469281 non-null  int64  \n",
      " 7   loudness          469281 non-null  float64\n",
      " 8   mode              469281 non-null  int64  \n",
      " 9   speechiness       469281 non-null  float64\n",
      " 10  acousticness      469281 non-null  float64\n",
      " 11  instrumentalness  469281 non-null  float64\n",
      " 12  liveness          469281 non-null  float64\n",
      " 13  valence           469281 non-null  float64\n",
      " 14  tempo             469281 non-null  float64\n",
      " 15  time_signature    469281 non-null  int64  \n",
      " 16  num_artists       469281 non-null  int64  \n",
      " 17  year              469281 non-null  int64  \n",
      "dtypes: float64(9), int64(8), object(1)\n",
      "memory usage: 64.4+ MB\n"
     ]
    }
   ],
   "source": [
    "df = pd.read_csv('../Data/tracks_cleaned.csv')\n",
    "df.info()"
   ]
  },
  {
   "cell_type": "code",
   "execution_count": null,
   "metadata": {},
   "outputs": [],
   "source": [
    "# data for linear regression and forest tree"
   ]
  }
 ],
 "metadata": {
  "kernelspec": {
   "display_name": "Python 3",
   "language": "python",
   "name": "python3"
  },
  "language_info": {
   "codemirror_mode": {
    "name": "ipython",
    "version": 3
   },
   "file_extension": ".py",
   "mimetype": "text/x-python",
   "name": "python",
   "nbconvert_exporter": "python",
   "pygments_lexer": "ipython3",
   "version": "3.11.2"
  },
  "orig_nbformat": 4
 },
 "nbformat": 4,
 "nbformat_minor": 2
}
