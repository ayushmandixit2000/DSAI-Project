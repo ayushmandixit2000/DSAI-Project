{
 "cells": [
  {
   "attachments": {},
   "cell_type": "markdown",
   "metadata": {},
   "source": [
    "## Comparison of Models\n",
    "--- \n",
    "In this section, we will be comparing and analysing the performance of the 3 ML models we have utilized."
   ]
  },
  {
   "cell_type": "code",
   "execution_count": 1,
   "metadata": {},
   "outputs": [],
   "source": [
    "# importing libraries\n",
    "import pandas as pd\n",
    "from sklearn.ensemble import RandomForestRegressor\n",
    "from sklearn.model_selection import train_test_split\n",
    "import matplotlib.pyplot as plt\n",
    "import seaborn as sb\n",
    "import numpy as np\n",
    "import matplotlib.pyplot as plt # data visualization\n",
    "import ipywidgets as widgets # interactive widgets\n",
    "from ipywidgets import Box"
   ]
  },
  {
   "cell_type": "code",
   "execution_count": 2,
   "metadata": {},
   "outputs": [],
   "source": [
    "import pickle\n",
    "# Load the saved model from file\n",
    "with open('random_forest_model.pkl', 'rb') as file:\n",
    "    rforest = pickle.load(file)\n",
    "\n",
    "\n",
    "# load the saved model\n",
    "with open('linear_regression_model.pkl', 'rb') as file:\n",
    "    model_regression = pickle.load(file)\n",
    "\n",
    "# Load the saved model from file\n",
    "with open('model_decision_model.pkl', 'rb') as file:\n",
    "    model_decision_tree = pickle.load(file)"
   ]
  },
  {
   "cell_type": "code",
   "execution_count": 3,
   "metadata": {},
   "outputs": [
    {
     "name": "stdout",
     "output_type": "stream",
     "text": [
      "<class 'pandas.core.frame.DataFrame'>\n",
      "RangeIndex: 469281 entries, 0 to 469280\n",
      "Data columns (total 17 columns):\n",
      " #   Column            Non-Null Count   Dtype  \n",
      "---  ------            --------------   -----  \n",
      " 0   popularity        469281 non-null  int64  \n",
      " 1   duration_ms       469281 non-null  int64  \n",
      " 2   explicit          469281 non-null  int64  \n",
      " 3   danceability      469281 non-null  float64\n",
      " 4   energy            469281 non-null  float64\n",
      " 5   key               469281 non-null  int64  \n",
      " 6   loudness          469281 non-null  float64\n",
      " 7   mode              469281 non-null  int64  \n",
      " 8   speechiness       469281 non-null  float64\n",
      " 9   acousticness      469281 non-null  float64\n",
      " 10  instrumentalness  469281 non-null  float64\n",
      " 11  liveness          469281 non-null  float64\n",
      " 12  valence           469281 non-null  float64\n",
      " 13  tempo             469281 non-null  float64\n",
      " 14  time_signature    469281 non-null  int64  \n",
      " 15  num_artists       469281 non-null  int64  \n",
      " 16  year              469281 non-null  int64  \n",
      "dtypes: float64(9), int64(8)\n",
      "memory usage: 60.9 MB\n"
     ]
    }
   ],
   "source": [
    "# Load the dataset into a pandas dataframe\n",
    "RefinedMusicData = pd.read_csv('../Data/tracks_cleaned.csv')\n",
    "RefinedMusicData.drop('release_date',axis=1,inplace=True)\n",
    "RefinedMusicData.info()"
   ]
  },
  {
   "cell_type": "code",
   "execution_count": 4,
   "metadata": {},
   "outputs": [],
   "source": [
    "# Data cleaning and arrangement\n",
    "time_signature_df=pd.get_dummies(RefinedMusicData[\"time_signature\"])\n",
    "time_signature_df.columns = time_signature_df.columns.astype(str)\n",
    "RefinedMusicData = pd.concat([RefinedMusicData,time_signature_df],axis=1)\n",
    "RefinedMusicData['mode'] = np.where(RefinedMusicData['mode']=='Major', 1, 0)"
   ]
  },
  {
   "cell_type": "code",
   "execution_count": 5,
   "metadata": {},
   "outputs": [
    {
     "name": "stdout",
     "output_type": "stream",
     "text": [
      "<class 'pandas.core.frame.DataFrame'>\n",
      "RangeIndex: 469281 entries, 0 to 469280\n",
      "Data columns (total 21 columns):\n",
      " #   Column            Non-Null Count   Dtype  \n",
      "---  ------            --------------   -----  \n",
      " 0   duration_ms       469281 non-null  int64  \n",
      " 1   explicit          469281 non-null  int64  \n",
      " 2   danceability      469281 non-null  float64\n",
      " 3   energy            469281 non-null  float64\n",
      " 4   key               469281 non-null  int64  \n",
      " 5   loudness          469281 non-null  float64\n",
      " 6   mode              469281 non-null  int64  \n",
      " 7   speechiness       469281 non-null  float64\n",
      " 8   acousticness      469281 non-null  float64\n",
      " 9   instrumentalness  469281 non-null  float64\n",
      " 10  liveness          469281 non-null  float64\n",
      " 11  valence           469281 non-null  float64\n",
      " 12  tempo             469281 non-null  float64\n",
      " 13  time_signature    469281 non-null  int64  \n",
      " 14  num_artists       469281 non-null  int64  \n",
      " 15  year              469281 non-null  int64  \n",
      " 16  0                 469281 non-null  uint8  \n",
      " 17  1                 469281 non-null  uint8  \n",
      " 18  3                 469281 non-null  uint8  \n",
      " 19  4                 469281 non-null  uint8  \n",
      " 20  5                 469281 non-null  uint8  \n",
      "dtypes: float64(9), int64(7), uint8(5)\n",
      "memory usage: 59.5 MB\n"
     ]
    }
   ],
   "source": [
    "# data modelling\n",
    "X= RefinedMusicData.loc[:,RefinedMusicData.columns !=\"popularity\"] # all the features accept popularity\n",
    "y = RefinedMusicData[\"popularity\"] # the popularity\n",
    "X.info()"
   ]
  },
  {
   "cell_type": "code",
   "execution_count": 6,
   "metadata": {},
   "outputs": [],
   "source": [
    "# separate the data to training and testing\n",
    "X_train, X_test, y_train,y_test=train_test_split(X,y,test_size=0.2)\n",
    "\n",
    "# save as np.array\n",
    "X_train = np.array(X_train)\n",
    "X_test = np.array(X_test)\n",
    "y_train = np.array(y_train) \n",
    "y_test = np.array(y_test)"
   ]
  },
  {
   "cell_type": "code",
   "execution_count": 7,
   "metadata": {},
   "outputs": [
    {
     "name": "stdout",
     "output_type": "stream",
     "text": [
      "Linear Regression Train Set R^2: 0.37657130852033915\n",
      "Linear Regression Test Set R^2: 0.3762227480743149\n"
     ]
    },
    {
     "name": "stderr",
     "output_type": "stream",
     "text": [
      "[Parallel(n_jobs=8)]: Using backend ThreadingBackend with 8 concurrent workers.\n",
      "[Parallel(n_jobs=8)]: Done  25 tasks      | elapsed:    0.4s\n",
      "[Parallel(n_jobs=8)]: Done 146 tasks      | elapsed:    1.5s\n",
      "[Parallel(n_jobs=8)]: Done 349 tasks      | elapsed:    3.2s\n",
      "[Parallel(n_jobs=8)]: Done 632 tasks      | elapsed:    5.6s\n",
      "[Parallel(n_jobs=8)]: Done 1000 out of 1000 | elapsed:    8.7s finished\n",
      "[Parallel(n_jobs=8)]: Using backend ThreadingBackend with 8 concurrent workers.\n",
      "[Parallel(n_jobs=8)]: Done  25 tasks      | elapsed:    0.1s\n"
     ]
    },
    {
     "name": "stdout",
     "output_type": "stream",
     "text": [
      "Random Forest Train Set R^2: 0.5814647510896286\n"
     ]
    },
    {
     "name": "stderr",
     "output_type": "stream",
     "text": [
      "[Parallel(n_jobs=8)]: Done 146 tasks      | elapsed:    0.3s\n",
      "[Parallel(n_jobs=8)]: Done 349 tasks      | elapsed:    0.7s\n",
      "[Parallel(n_jobs=8)]: Done 632 tasks      | elapsed:    1.4s\n",
      "[Parallel(n_jobs=8)]: Done 1000 out of 1000 | elapsed:    2.1s finished\n"
     ]
    },
    {
     "name": "stdout",
     "output_type": "stream",
     "text": [
      "Random Forest Test Set R^2: 0.5795611684985552\n",
      "Decision Tree Train Set R^2: 0.8021655764613704\n",
      "Decision Tree Test Set R^2: 0.8012666360521505\n"
     ]
    }
   ],
   "source": [
    "# estimate the R² score on training and testing data\n",
    "# (1) Linear regression\n",
    "print(\"Linear Regression Train Set R^2: \" + str(model_regression.score(X_train,y_train)))\n",
    "print(\"Linear Regression Test Set R^2: \" + str(model_regression.score(X_test,y_test)))\n",
    "\n",
    "# (2) Random Forest\n",
    "print(\"Random Forest Train Set R^2: \" + str(rforest.score(X_train,y_train)))\n",
    "print(\"Random Forest Test Set R^2: \" + str(rforest.score(X_test,y_test)))\n",
    "# (3) Decision Tree\n",
    "print(\"Decision Tree Train Set R^2: \" + str(model_decision_tree.score(X_train,y_train)))\n",
    "print(\"Decision Tree Test Set R^2: \" + str(model_decision_tree.score(X_test,y_test)))\n",
    "\n"
   ]
  },
  {
   "cell_type": "code",
   "execution_count": 8,
   "metadata": {},
   "outputs": [
    {
     "name": "stdout",
     "output_type": "stream",
     "text": [
      "Linear Regression Train Set RMSE: 14.493720872309465\n",
      "Linear Regression Train Set MSE: 210.06794472441905\n",
      "Linear Regression Test Set RMSE: 14.536950397866327\n",
      "Linear Regression Test Set MSE: 211.32292687002598\n"
     ]
    },
    {
     "name": "stderr",
     "output_type": "stream",
     "text": [
      "[Parallel(n_jobs=8)]: Using backend ThreadingBackend with 8 concurrent workers.\n",
      "[Parallel(n_jobs=8)]: Done  25 tasks      | elapsed:    0.4s\n",
      "[Parallel(n_jobs=8)]: Done 146 tasks      | elapsed:    1.4s\n",
      "[Parallel(n_jobs=8)]: Done 349 tasks      | elapsed:    3.2s\n",
      "[Parallel(n_jobs=8)]: Done 632 tasks      | elapsed:    5.9s\n",
      "[Parallel(n_jobs=8)]: Done 1000 out of 1000 | elapsed:    9.3s finished\n",
      "[Parallel(n_jobs=8)]: Using backend ThreadingBackend with 8 concurrent workers.\n",
      "[Parallel(n_jobs=8)]: Done  25 tasks      | elapsed:    0.1s\n",
      "[Parallel(n_jobs=8)]: Done 146 tasks      | elapsed:    0.3s\n",
      "[Parallel(n_jobs=8)]: Done 349 tasks      | elapsed:    0.7s\n",
      "[Parallel(n_jobs=8)]: Done 632 tasks      | elapsed:    1.3s\n",
      "[Parallel(n_jobs=8)]: Done 1000 out of 1000 | elapsed:    2.0s finished\n"
     ]
    },
    {
     "name": "stdout",
     "output_type": "stream",
     "text": [
      "Random Forest Train Set RMSE: 11.875516856130082\n",
      "Random Forest Train Set MSE: 141.02790060022969\n",
      "Random Forest Test Set RMSE: 11.934657286533662\n",
      "Random Forest Test Set MSE: 142.43604454701102\n",
      "Decision Tree Train Set RMSE: 8.164647350971519\n",
      "Decision Tree Train Set MSE: 66.66146636572626\n",
      "Decision Tree Test Set RMSE: 8.205289984525008\n",
      "Decision Tree Test Set MSE: 67.32678373014639\n"
     ]
    }
   ],
   "source": [
    "from sklearn.metrics import mean_squared_error\n",
    "\n",
    "# calculate the predictions on training and testing data\n",
    "y_train_pred = model_regression.predict(X_train)\n",
    "y_test_pred = model_regression.predict(X_test)\n",
    "\n",
    "# calculate the RMSE and MSE on training and testing data for linear regression\n",
    "print(\"Linear Regression Train Set RMSE: \" + str(mean_squared_error(y_train, y_train_pred, squared=False)))\n",
    "print(\"Linear Regression Train Set MSE: \" + str(mean_squared_error(y_train, y_train_pred)))\n",
    "\n",
    "print(\"Linear Regression Test Set RMSE: \" + str(mean_squared_error(y_test, y_test_pred, squared=False)))\n",
    "print(\"Linear Regression Test Set MSE: \" + str(mean_squared_error(y_test, y_test_pred)))\n",
    "\n",
    "# calculate the predictions on training and testing data\n",
    "y_train_pred = rforest.predict(X_train)\n",
    "y_test_pred = rforest.predict(X_test)\n",
    "\n",
    "# calculate the RMSE and MSE on training and testing data for random forest\n",
    "print(\"Random Forest Train Set RMSE: \" + str(mean_squared_error(y_train, y_train_pred, squared=False)))\n",
    "print(\"Random Forest Train Set MSE: \" + str(mean_squared_error(y_train, y_train_pred)))\n",
    "\n",
    "print(\"Random Forest Test Set RMSE: \" + str(mean_squared_error(y_test, y_test_pred, squared=False)))\n",
    "print(\"Random Forest Test Set MSE: \" + str(mean_squared_error(y_test, y_test_pred)))\n",
    "\n",
    "# calculate the predictions on training and testing data\n",
    "y_train_pred = model_decision_tree.predict(X_train)\n",
    "y_test_pred = model_decision_tree.predict(X_test)\n",
    "\n",
    "# calculate the RMSE and MSE on training and testing data for decision tree\n",
    "print(\"Decision Tree Train Set RMSE: \" + str(mean_squared_error(y_train, y_train_pred, squared=False)))\n",
    "print(\"Decision Tree Train Set MSE: \" + str(mean_squared_error(y_train, y_train_pred)))\n",
    "\n",
    "print(\"Decision Tree Test Set RMSE: \" + str(mean_squared_error(y_test, y_test_pred, squared=False)))\n",
    "print(\"Decision Tree Test Set MSE: \" + str(mean_squared_error(y_test, y_test_pred)))\n"
   ]
  },
  {
   "cell_type": "code",
   "execution_count": 9,
   "metadata": {},
   "outputs": [
    {
     "name": "stderr",
     "output_type": "stream",
     "text": [
      "[Parallel(n_jobs=8)]: Using backend ThreadingBackend with 8 concurrent workers.\n",
      "[Parallel(n_jobs=8)]: Done  25 tasks      | elapsed:    0.0s\n",
      "[Parallel(n_jobs=8)]: Done 146 tasks      | elapsed:    0.0s\n",
      "[Parallel(n_jobs=8)]: Done 349 tasks      | elapsed:    0.0s\n",
      "[Parallel(n_jobs=8)]: Done 632 tasks      | elapsed:    0.0s\n",
      "[Parallel(n_jobs=8)]: Done 1000 out of 1000 | elapsed:    0.0s finished\n",
      "[Parallel(n_jobs=8)]: Using backend ThreadingBackend with 8 concurrent workers.\n",
      "[Parallel(n_jobs=8)]: Done  25 tasks      | elapsed:    0.0s\n",
      "[Parallel(n_jobs=8)]: Done 146 tasks      | elapsed:    0.0s\n",
      "[Parallel(n_jobs=8)]: Done 349 tasks      | elapsed:    0.0s\n",
      "[Parallel(n_jobs=8)]: Done 632 tasks      | elapsed:    0.0s\n",
      "[Parallel(n_jobs=8)]: Done 1000 out of 1000 | elapsed:    0.0s finished\n",
      "[Parallel(n_jobs=8)]: Using backend ThreadingBackend with 8 concurrent workers.\n",
      "[Parallel(n_jobs=8)]: Done  25 tasks      | elapsed:    0.0s\n",
      "[Parallel(n_jobs=8)]: Done 146 tasks      | elapsed:    0.0s\n",
      "[Parallel(n_jobs=8)]: Done 349 tasks      | elapsed:    0.0s\n",
      "[Parallel(n_jobs=8)]: Done 632 tasks      | elapsed:    0.0s\n",
      "[Parallel(n_jobs=8)]: Done 1000 out of 1000 | elapsed:    0.0s finished\n",
      "[Parallel(n_jobs=8)]: Using backend ThreadingBackend with 8 concurrent workers.\n",
      "[Parallel(n_jobs=8)]: Done  25 tasks      | elapsed:    0.0s\n",
      "[Parallel(n_jobs=8)]: Done 146 tasks      | elapsed:    0.0s\n",
      "[Parallel(n_jobs=8)]: Done 349 tasks      | elapsed:    0.0s\n",
      "[Parallel(n_jobs=8)]: Done 632 tasks      | elapsed:    0.0s\n",
      "[Parallel(n_jobs=8)]: Done 1000 out of 1000 | elapsed:    0.0s finished\n",
      "[Parallel(n_jobs=8)]: Using backend ThreadingBackend with 8 concurrent workers.\n",
      "[Parallel(n_jobs=8)]: Done  25 tasks      | elapsed:    0.0s\n",
      "[Parallel(n_jobs=8)]: Done 146 tasks      | elapsed:    0.0s\n",
      "[Parallel(n_jobs=8)]: Done 349 tasks      | elapsed:    0.0s\n",
      "[Parallel(n_jobs=8)]: Done 632 tasks      | elapsed:    0.0s\n",
      "[Parallel(n_jobs=8)]: Done 1000 out of 1000 | elapsed:    0.0s finished\n",
      "[Parallel(n_jobs=8)]: Using backend ThreadingBackend with 8 concurrent workers.\n",
      "[Parallel(n_jobs=8)]: Done  25 tasks      | elapsed:    0.0s\n",
      "[Parallel(n_jobs=8)]: Done 146 tasks      | elapsed:    0.0s\n",
      "[Parallel(n_jobs=8)]: Done 349 tasks      | elapsed:    0.0s\n",
      "[Parallel(n_jobs=8)]: Done 632 tasks      | elapsed:    0.0s\n",
      "[Parallel(n_jobs=8)]: Done 1000 out of 1000 | elapsed:    0.0s finished\n",
      "[Parallel(n_jobs=8)]: Using backend ThreadingBackend with 8 concurrent workers.\n",
      "[Parallel(n_jobs=8)]: Done  25 tasks      | elapsed:    0.0s\n",
      "[Parallel(n_jobs=8)]: Done 146 tasks      | elapsed:    0.0s\n",
      "[Parallel(n_jobs=8)]: Done 349 tasks      | elapsed:    0.0s\n",
      "[Parallel(n_jobs=8)]: Done 632 tasks      | elapsed:    0.0s\n",
      "[Parallel(n_jobs=8)]: Done 1000 out of 1000 | elapsed:    0.0s finished\n",
      "[Parallel(n_jobs=8)]: Using backend ThreadingBackend with 8 concurrent workers.\n",
      "[Parallel(n_jobs=8)]: Done  25 tasks      | elapsed:    0.0s\n",
      "[Parallel(n_jobs=8)]: Done 146 tasks      | elapsed:    0.0s\n",
      "[Parallel(n_jobs=8)]: Done 349 tasks      | elapsed:    0.0s\n",
      "[Parallel(n_jobs=8)]: Done 632 tasks      | elapsed:    0.0s\n",
      "[Parallel(n_jobs=8)]: Done 1000 out of 1000 | elapsed:    0.0s finished\n",
      "[Parallel(n_jobs=8)]: Using backend ThreadingBackend with 8 concurrent workers.\n",
      "[Parallel(n_jobs=8)]: Done  25 tasks      | elapsed:    0.0s\n",
      "[Parallel(n_jobs=8)]: Done 146 tasks      | elapsed:    0.0s\n",
      "[Parallel(n_jobs=8)]: Done 349 tasks      | elapsed:    0.0s\n",
      "[Parallel(n_jobs=8)]: Done 632 tasks      | elapsed:    0.0s\n",
      "[Parallel(n_jobs=8)]: Done 1000 out of 1000 | elapsed:    0.0s finished\n",
      "[Parallel(n_jobs=8)]: Using backend ThreadingBackend with 8 concurrent workers.\n",
      "[Parallel(n_jobs=8)]: Done  25 tasks      | elapsed:    0.0s\n",
      "[Parallel(n_jobs=8)]: Done 146 tasks      | elapsed:    0.0s\n",
      "[Parallel(n_jobs=8)]: Done 349 tasks      | elapsed:    0.0s\n",
      "[Parallel(n_jobs=8)]: Done 632 tasks      | elapsed:    0.0s\n",
      "[Parallel(n_jobs=8)]: Done 1000 out of 1000 | elapsed:    0.0s finished\n"
     ]
    },
    {
     "data": {
      "image/png": "[encoded data removed]",
      "text/plain": [
       "<Figure size 640x480 with 1 Axes>"
      ]
     },
     "metadata": {},
     "output_type": "display_data"
    }
   ],
   "source": [
    "test_samples = 10 # amount of songs which would be evaluated\n",
    "# initialized empty lists for the models predictions\n",
    "regression = [] \n",
    "random_forest = [] \n",
    "decision_tree = []\n",
    "ground_truth = []\n",
    "# collecting the models' predictions \n",
    "for i in range(test_samples): \n",
    "    regression.append(model_regression.predict([X_test[i]])) \n",
    "    random_forest.append(rforest.predict([X_test[i]]))\n",
    "    decision_tree.append(model_decision_tree.predict([X_test[i]]))\n",
    "    ground_truth.append(y_test[i])\n",
    "# Plotting the models' predictions in comparison to the ground truth\n",
    "plt.plot(range(len(regression)), regression, label='Linear Regression')\n",
    "plt.plot(range(len(random_forest)), random_forest, label='Random Forest')\n",
    "plt.plot(range(len(decision_tree)), decision_tree, label='Decision Tree')\n",
    "plt.plot(range(len(ground_truth)), ground_truth, label='Ground Truth')\n",
    "plt.xlim([0, test_samples])\n",
    "plt.ylim([0, 100])\n",
    "plt.xlabel('songs')\n",
    "plt.ylabel('popularity')\n",
    "plt.legend()\n",
    "plt.show()"
   ]
  },
  {
   "cell_type": "code",
   "execution_count": 8,
   "metadata": {},
   "outputs": [],
   "source": [
    "# Variables ranges\n",
    "acousticness = [0,1]\n",
    "danceability = [0,1]\n",
    "duration_ms = [0,1000]\n",
    "energy = [0,1]\n",
    "instrumentalness = [0,1]\n",
    "liveness = [0,1]\n",
    "loudness= [ -60,0]\n",
    "speechiness = [0,1]\n",
    "tempo = [0,250]\n",
    "valence = [0,1]\n",
    "mode = [0,1]\n",
    "features_range = {\"acousticness\":[0,1],\"danceability\" : [0,1],\"duration_ms\":[0,1000],\"energy\":[0,1],\"instrumentalness\":[0,1],\"liveness\":[0,1],\"loudness\": [-60,0],\"speechiness\" : [0,1],\"tempo\" : [0,250],\"valence\" : [0,1],\"mode\" : [0,1]}"
   ]
  },
  {
   "cell_type": "code",
   "execution_count": 9,
   "metadata": {},
   "outputs": [
    {
     "name": "stdout",
     "output_type": "stream",
     "text": [
      "<class 'pandas.core.frame.DataFrame'>\n",
      "RangeIndex: 469281 entries, 0 to 469280\n",
      "Data columns (total 11 columns):\n",
      " #   Column            Non-Null Count   Dtype  \n",
      "---  ------            --------------   -----  \n",
      " 0   duration_ms       469281 non-null  int64  \n",
      " 1   danceability      469281 non-null  float64\n",
      " 2   energy            469281 non-null  float64\n",
      " 3   loudness          469281 non-null  float64\n",
      " 4   mode              469281 non-null  int64  \n",
      " 5   speechiness       469281 non-null  float64\n",
      " 6   acousticness      469281 non-null  float64\n",
      " 7   instrumentalness  469281 non-null  float64\n",
      " 8   liveness          469281 non-null  float64\n",
      " 9   valence           469281 non-null  float64\n",
      " 10  tempo             469281 non-null  float64\n",
      "dtypes: float64(9), int64(2)\n",
      "memory usage: 39.4 MB\n"
     ]
    }
   ],
   "source": [
    "X_box=pd.DataFrame( X.drop(['explicit','time_signature','0','1','3','4','5','num_artists','year','key'],axis=1))\n",
    "X_box.info()"
   ]
  },
  {
   "cell_type": "code",
   "execution_count": null,
   "metadata": {},
   "outputs": [],
   "source": [
    "regression = []\n",
    "random_forest = []\n",
    "decision_tree = []\n",
    "features = X_box.shape[1]\n",
    "widgets_box = []\n",
    "headers = X_box.columns\n",
    "temp_sample =X_box.iloc[0]\n",
    "for feature in range(features):\n",
    "   temp_widget = widgets.FloatSlider(value=temp_sample[feature],\n",
    "   min=features_range[headers[feature]][0],\n",
    "   max=features_range[headers[feature]][1],\n",
    "   step=0.1,\n",
    "   description=headers[feature],\n",
    "   disabled=False,\n",
    "   continuous_update=False,\n",
    "   orientation='vertical',\n",
    "   readout=True,\n",
    "   readout_format='.1f',\n",
    "   )\n",
    "   widgets_box.append(temp_widget)\n",
    "# display the features panel\n",
    "box = Box(children=widgets_box)"
   ]
  },
  {
   "cell_type": "code",
   "execution_count": null,
   "metadata": {},
   "outputs": [],
   "source": [
    "# Predict the popularity score based on the selected features\n",
    "for feature in range(features):\n",
    "   temp_sample[feature] = widgets_box[feature].value\n",
    "   regression.append(model_regression.predict([temp_sample]))\n",
    "   random_forest.append(rforest.predict([temp_sample]))\n",
    "   decision_tree.append(model_decision_tree.predict([temp_sample]))\n",
    "# plot a simple line chart\n",
    "plt.plot(range(len(regression)), regression, label='Linear Regression')\n",
    "plt.plot(range(len(random_forest)), random_forest, label='Random Forest')\n",
    "plt.plot(range(len(decision_tree)), decision_tree, label='Decision Tree')\n",
    "plt.xlim([0, len(regression)])\n",
    "plt.ylim([0, 100])\n",
    "plt.legend()\n",
    "plt.show()"
   ]
  }
 ],
 "metadata": {
  "kernelspec": {
   "display_name": "Python 3",
   "language": "python",
   "name": "python3"
  },
  "language_info": {
   "codemirror_mode": {
    "name": "ipython",
    "version": 3
   },
   "file_extension": ".py",
   "mimetype": "text/x-python",
   "name": "python",
   "nbconvert_exporter": "python",
   "pygments_lexer": "ipython3",
   "version": "3.11.2"
  },
  "orig_nbformat": 4
 },
 "nbformat": 4,
 "nbformat_minor": 2
}
