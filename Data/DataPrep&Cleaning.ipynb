{
 "cells": [
  {
   "cell_type": "code",
   "execution_count": 2,
   "metadata": {},
   "outputs": [],
   "source": [
    "import pandas as pd\n",
    "import numpy as np\n",
    "\n",
    "# Load the dataset into a pandas dataframe\n",
    "df = pd.read_csv('tracks.csv')\n",
    "\n",
    "# Calculate the histogram of the \"popularity\" column\n",
    "hist, bins = np.histogram(df['popularity'], bins=5)\n",
    "\n",
    "# Calculate the number of records to keep from each bin\n",
    "n_records_to_keep = (hist * 0.8).astype(int)\n",
    "\n",
    "# Select the required number of records randomly from each bin\n",
    "dfs = []\n",
    "for i in range(len(n_records_to_keep)):\n",
    "    bin_df = df[(df['popularity'] >= bins[i]) & (df['popularity'] < bins[i+1])]\n",
    "    dfs.append(bin_df.sample(n=n_records_to_keep[i], random_state=42))\n",
    "\n",
    "# Concatenate the selected records from all bins to create a new DataFrame\n",
    "df_new = pd.concat(dfs)\n",
    "\n",
    "# Write the new DataFrame to a new CSV file\n",
    "df_new.to_csv('tracks_reduced.csv', index=False)\n",
    "\n"
   ]
  },
  {
   "attachments": {},
   "cell_type": "markdown",
   "metadata": {},
   "source": [
    "As the orginal dataset size was above 100mb (above limit to push on github and work with teamates), the dataset was evenly reduced by 20%. As our end goal is to work with popularity, the goal is to maintain the same proportion of records from each category in the sample as in the original data. In this case, the categories are the popularity ranges, and the code is ensuring that each range is represented proportionally in the reduced dataset."
   ]
  }
 ],
 "metadata": {
  "kernelspec": {
   "display_name": "Python 3",
   "language": "python",
   "name": "python3"
  },
  "language_info": {
   "codemirror_mode": {
    "name": "ipython",
    "version": 3
   },
   "file_extension": ".py",
   "mimetype": "text/x-python",
   "name": "python",
   "nbconvert_exporter": "python",
   "pygments_lexer": "ipython3",
   "version": "3.10.6"
  },
  "orig_nbformat": 4
 },
 "nbformat": 4,
 "nbformat_minor": 2
}
