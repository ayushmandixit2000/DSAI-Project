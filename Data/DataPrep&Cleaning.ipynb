{
 "cells": [
  {
   "attachments": {},
   "cell_type": "markdown",
   "metadata": {},
   "source": [
    "# Data Preparation and Cleaning\n",
    "---"
   ]
  },
  {
   "cell_type": "code",
   "execution_count": null,
   "metadata": {},
   "outputs": [],
   "source": [

    "# Basic Libraries\n",
    "import pandas as pd\n",
    "import numpy as np"
   ]
  },
  {
   "attachments": {},
   "cell_type": "markdown",
   "metadata": {},
   "source": [
    "Dataset from Kaggle: **Spotify Dataset 1921-2020, 600k+ Tracks**  \n",
    "Source: https://www.kaggle.com/datasets/yamaerenay/spotify-dataset-19212020-600k-tracks\n",
    "\n",
    "As the orginal dataset size was above 100mb (above limit to push on github and work with teamates), the dataset was evenly reduced by 20%. As our end goal is to work with popularity, the goal is to maintain the same proportion of records from each category in the sample as in the original data. In this case, the categories are the popularity ranges, and the code is ensuring that each range is represented proportionally in the reduced dataset."
   ]
  },
  {
   "cell_type": "code",
   "execution_count": null,
   "metadata": {},
   "outputs": [],
   "source": [
    "# Load the dataset into a pandas dataframe\n",
    "df = pd.read_csv('tracks.csv')\n",
    "\n",
    "# Calculate the histogram of the \"popularity\" column\n",
    "hist, bins = np.histogram(df['popularity'], bins=5)\n",
    "\n",
    "# Calculate the number of records to keep from each bin\n",
    "n_records_to_keep = (hist * 0.8).astype(int)\n",
    "\n",
    "# Select the required number of records randomly from each bin\n",
    "dfs = []\n",
    "for i in range(len(n_records_to_keep)):\n",
    "    bin_df = df[(df['popularity'] >= bins[i]) & (df['popularity'] < bins[i+1])]\n",
    "    dfs.append(bin_df.sample(n=n_records_to_keep[i], random_state=42))\n",
    "\n",
    "# Concatenate the selected records from all bins to create a new DataFrame\n",
    "df_new = pd.concat(dfs)\n",
    "\n",
    "# Write the new DataFrame to a new CSV file\n",
    "df_new.to_csv('tracks_reduced.csv', index=False)"
   ]
  },
  {
   "cell_type": "code",
   "execution_count": 3,
   "metadata": {},
   "outputs": [
    {
     "name": "stdout",
     "output_type": "stream",
     "text": [
      "<class 'pandas.core.frame.DataFrame'>\n",
      "RangeIndex: 469336 entries, 0 to 469335\n",
      "Data columns (total 20 columns):\n",
      " #   Column            Non-Null Count   Dtype  \n",
      "---  ------            --------------   -----  \n",
      " 0   id                469336 non-null  object \n",
      " 1   name              469281 non-null  object \n",
      " 2   popularity        469336 non-null  int64  \n",
      " 3   duration_ms       469336 non-null  int64  \n",
      " 4   explicit          469336 non-null  int64  \n",
      " 5   artists           469336 non-null  object \n",
      " 6   id_artists        469336 non-null  object \n",
      " 7   release_date      469336 non-null  object \n",
      " 8   danceability      469336 non-null  float64\n",
      " 9   energy            469336 non-null  float64\n",
      " 10  key               469336 non-null  int64  \n",
      " 11  loudness          469336 non-null  float64\n",
      " 12  mode              469336 non-null  int64  \n",
      " 13  speechiness       469336 non-null  float64\n",
      " 14  acousticness      469336 non-null  float64\n",
      " 15  instrumentalness  469336 non-null  float64\n",
      " 16  liveness          469336 non-null  float64\n",
      " 17  valence           469336 non-null  float64\n",
      " 18  tempo             469336 non-null  float64\n",
      " 19  time_signature    469336 non-null  int64  \n",
      "dtypes: float64(9), int64(6), object(5)\n",
      "memory usage: 71.6+ MB\n"
     ]
    }
   ],
   "source": [
    "musicData = pd.read_csv('tracks_reduced.csv')\n",
    "musicData.info()"
   ]
  },
  {
   "cell_type": "code",
   "execution_count": 4,
   "metadata": {},
   "outputs": [
    {
     "name": "stdout",
     "output_type": "stream",
     "text": [
      "<class 'pandas.core.frame.DataFrame'>\n",
      "Int64Index: 469336 entries, 0 to 469335\n",
      "Data columns (total 20 columns):\n",
      " #   Column            Non-Null Count   Dtype  \n",
      "---  ------            --------------   -----  \n",
      " 0   id                469336 non-null  object \n",
      " 1   name              469281 non-null  object \n",
      " 2   popularity        469336 non-null  int64  \n",
      " 3   duration_ms       469336 non-null  int64  \n",
      " 4   explicit          469336 non-null  int64  \n",
      " 5   artists           469336 non-null  object \n",
      " 6   id_artists        469336 non-null  object \n",
      " 7   release_date      469336 non-null  object \n",
      " 8   danceability      469336 non-null  float64\n",
      " 9   energy            469336 non-null  float64\n",
      " 10  key               469336 non-null  int64  \n",
      " 11  loudness          469336 non-null  float64\n",
      " 12  mode              469336 non-null  int64  \n",
      " 13  speechiness       469336 non-null  float64\n",
      " 14  acousticness      469336 non-null  float64\n",
      " 15  instrumentalness  469336 non-null  float64\n",
      " 16  liveness          469336 non-null  float64\n",
      " 17  valence           469336 non-null  float64\n",
      " 18  tempo             469336 non-null  float64\n",
      " 19  time_signature    469336 non-null  int64  \n",
      "dtypes: float64(9), int64(6), object(5)\n",
      "memory usage: 75.2+ MB\n"
     ]
    }
   ],
   "source": [
    "# Removing duplicates if they exist\n",
    "musicData = musicData.drop_duplicates()"
   ]
  },
  {
   "cell_type": "code",
   "execution_count": 7,
   "metadata": {},
   "outputs": [
    {
     "name": "stdout",
     "output_type": "stream",
     "text": [
      "Number of missing values per column:\n",
      " id                   0\n",
      "name                55\n",
      "popularity           0\n",
      "duration_ms          0\n",
      "explicit             0\n",
      "artists              0\n",
      "id_artists           0\n",
      "release_date         0\n",
      "danceability         0\n",
      "energy               0\n",
      "key                  0\n",
      "loudness             0\n",
      "mode                 0\n",
      "speechiness          0\n",
      "acousticness         0\n",
      "instrumentalness     0\n",
      "liveness             0\n",
      "valence              0\n",
      "tempo                0\n",
      "time_signature       0\n",
      "dtype: int64\n"
     ]
    }
   ],
   "source": [
    "# Identifying missing data\n",
    "\n",
    "missing_data = musicData.isnull().sum()\n",
    "print(\"Number of missing values per column:\\n\", missing_data)"
   ]
  },
  {
   "attachments": {},
   "cell_type": "markdown",
   "metadata": {},
   "source": [
    "---\n",
    "We notice that there are some entries that do not have a name. To ensure data consistency, we will remove these entries."
   ]
  },
  {
   "cell_type": "code",
   "execution_count": 8,
   "metadata": {},
   "outputs": [
    {
     "name": "stdout",
     "output_type": "stream",
     "text": [
      "<class 'pandas.core.frame.DataFrame'>\n",
      "Int64Index: 469281 entries, 0 to 469335\n",
      "Data columns (total 20 columns):\n",
      " #   Column            Non-Null Count   Dtype  \n",
      "---  ------            --------------   -----  \n",
      " 0   id                469281 non-null  object \n",
      " 1   name              469281 non-null  object \n",
      " 2   popularity        469281 non-null  int64  \n",
      " 3   duration_ms       469281 non-null  int64  \n",
      " 4   explicit          469281 non-null  int64  \n",
      " 5   artists           469281 non-null  object \n",
      " 6   id_artists        469281 non-null  object \n",
      " 7   release_date      469281 non-null  object \n",
      " 8   danceability      469281 non-null  float64\n",
      " 9   energy            469281 non-null  float64\n",
      " 10  key               469281 non-null  int64  \n",
      " 11  loudness          469281 non-null  float64\n",
      " 12  mode              469281 non-null  int64  \n",
      " 13  speechiness       469281 non-null  float64\n",
      " 14  acousticness      469281 non-null  float64\n",
      " 15  instrumentalness  469281 non-null  float64\n",
      " 16  liveness          469281 non-null  float64\n",
      " 17  valence           469281 non-null  float64\n",
      " 18  tempo             469281 non-null  float64\n",
      " 19  time_signature    469281 non-null  int64  \n",
      "dtypes: float64(9), int64(6), object(5)\n",
      "memory usage: 75.2+ MB\n"
     ]
    }
   ],
   "source": [
    "# Removing rows with null values\n",
    "musicData = musicData.dropna()\n",
    "musicData.info()"
   ]
  }
 ],
 "metadata": {
  "kernelspec": {
   "display_name": "Python 3",
   "language": "python",
   "name": "python3"
  },
  "language_info": {
   "codemirror_mode": {
    "name": "ipython",
    "version": 3
   },
   "file_extension": ".py",
   "mimetype": "text/x-python",
   "name": "python",
   "nbconvert_exporter": "python",
   "pygments_lexer": "ipython3",
   "version": "3.11.2"
  },
  "orig_nbformat": 4
 },
 "nbformat": 4,
 "nbformat_minor": 2
}
